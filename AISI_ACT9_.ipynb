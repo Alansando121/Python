{
  "nbformat": 4,
  "nbformat_minor": 0,
  "metadata": {
    "colab": {
      "provenance": [],
      "authorship_tag": "ABX9TyPwAuvhLn2siqzyREqF1/6u",
      "include_colab_link": true
    },
    "kernelspec": {
      "name": "python3",
      "display_name": "Python 3"
    },
    "language_info": {
      "name": "python"
    }
  },
  "cells": [
    {
      "cell_type": "markdown",
      "metadata": {
        "id": "view-in-github",
        "colab_type": "text"
      },
      "source": [
        "<a href=\"https://colab.research.google.com/github/Alansando121/Python/blob/main/AISI_ACT9_.ipynb\" target=\"_parent\"><img src=\"https://colab.research.google.com/assets/colab-badge.svg\" alt=\"Open In Colab\"/></a>"
      ]
    },
    {
      "cell_type": "markdown",
      "source": [
        "Realiza un programa en python que utilice el siguiente menu:\n",
        "\n",
        " MENU\n",
        "\n",
        " 1.- Crear Diccionario\n",
        "\n",
        " 2.- Imprimir Diccionario\n",
        "\n",
        " 0.- Salir\n",
        "\n",
        "\n",
        "\n",
        "CREAR DICCIIONARIO: funcion que retorne un diccionario con los datos de basicos de un alumno, donde se pide {id,nombre (1 O 2) , appaterno,apmaterno, edad,sexo}, El diccionario se debe generar automaticmanete a partir de listas.\n",
        "\n",
        "\n",
        "\n",
        "IMPRIMIR DICCIONARIO:  Funcion que reciba como parametro el diccionario, y le de una salida mostrando la informacion en forma de registro que se genero con el diccionario\n",
        "\n"
      ],
      "metadata": {
        "id": "m2vVxVhg0qri"
      }
    },
    {
      "cell_type": "code",
      "source": [
        "import random\n",
        "\n",
        "# Listas de nombres y apellidos\n",
        "nombres = [\"Juan\", \"María\", \"Luis\", \"Ana\", \"Pedro\", \"Laura\", \"Diego\", \"Sofía\", \"Paula\", \"Fernando\", \"Francisco\", \"Alejandro\", \"Carla\", \"Manuel\", \"Marta\", \"Javier\", \"Elena\", \"Lucas\", \"Carmen\", \"Andrea\", \"Pablo\", \"Miguel\", \"Raquel\", \"Isabel\", \"David\", \"Victoria\", \"Daniel\", \"Silvia\", \"José\", \"Natalia\"]\n",
        "apellidos_paternos = [\"García\", \"Rodríguez\", \"Martínez\", \"Hernández\", \"López\", \"González\", \"Pérez\", \"Sánchez\", \"Ramírez\", \"Torres\", \"Flores\", \"Díaz\", \"Vázquez\", \"Ramos\", \"Reyes\", \"Alvarez\", \"Romero\", \"Suárez\", \"Cruz\", \"Ruiz\"]\n",
        "apellidos_maternos = [\"Fernández\", \"Pérez\", \"Gómez\", \"Díaz\", \"Sánchez\", \"Torres\", \"Vázquez\", \"Ramírez\", \"Romero\", \"Alvarez\", \"Cruz\", \"Suárez\", \"Gutiérrez\", \"Martínez\", \"Jiménez\", \"Mendoza\", \"Flores\", \"López\", \"Hernández\", \"González\"]\n",
        "def generar_matricula():\n",
        "    return ''.join([str(random.randint(0, 9)) for _ in range(6)])\n",
        "\n",
        "\n",
        "def generar_nombre():\n",
        "    return random.choice(nombres)\n",
        "\n",
        "\n",
        "def generar_apellido_paterno():\n",
        "    return random.choice(apellidos_paternos)\n",
        "\n",
        "\n",
        "def generar_apellido_materno():\n",
        "    return random.choice(apellidos_maternos)\n",
        "\n",
        "def crear_diccionario():\n",
        " # Creamos el diccionario con los datos generados\n",
        "    matricula = generar_matricula()\n",
        "    nombre = generar_nombre()\n",
        "    appaterno = generar_apellido_paterno()\n",
        "    apmaterno = generar_apellido_materno()\n",
        "    edad = random.randint(18, 25)\n",
        "    sexo = random.choice(['M', 'F'])\n",
        "\n",
        "\n",
        "    alumno = {\n",
        "        'matricula': matricula,\n",
        "        'nombre': nombre,\n",
        "        'appaterno': appaterno,\n",
        "        'apmaterno': apmaterno,\n",
        "        'edad': edad,\n",
        "        'sexo': sexo\n",
        "    }\n",
        "\n",
        "    return alumno\n",
        "\n",
        "\n"
      ],
      "metadata": {
        "id": "WTcrBILvzf5P"
      },
      "execution_count": 2,
      "outputs": []
    },
    {
      "cell_type": "code",
      "source": [
        "def imprimir_diccionario(diccionario):\n",
        "\n",
        "    print(\"Registro del alumno:\")\n",
        "    print(\"Matrícula:\", diccionario['matricula'])\n",
        "    print(\"Nombre:\", diccionario['nombre'])\n",
        "    print(\"Apellido Paterno:\", diccionario['appaterno'])\n",
        "    print(\"Apellido Materno:\", diccionario['apmaterno'])\n",
        "    print(\"Edad:\", diccionario['edad'])\n",
        "    print(\"Sexo:\", diccionario['sexo'])\n",
        "\n",
        "\n",
        "alumno = crear_diccionario()\n",
        "imprimir_diccionario(alumno)"
      ],
      "metadata": {
        "colab": {
          "base_uri": "https://localhost:8080/"
        },
        "id": "vw8HwWzOF1pl",
        "outputId": "a8349b82-7663-4f2f-ab3b-9f2c251d3c83"
      },
      "execution_count": 3,
      "outputs": [
        {
          "output_type": "stream",
          "name": "stdout",
          "text": [
            "Registro del alumno:\n",
            "Matrícula: 782389\n",
            "Nombre: Diego\n",
            "Apellido Paterno: Martínez\n",
            "Apellido Materno: Gómez\n",
            "Edad: 22\n",
            "Sexo: M\n"
          ]
        }
      ]
    }
  ]
}