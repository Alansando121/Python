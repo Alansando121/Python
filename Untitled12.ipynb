{
  "nbformat": 4,
  "nbformat_minor": 0,
  "metadata": {
    "colab": {
      "provenance": [],
      "authorship_tag": "ABX9TyNqw3enhJPptkiXQ9Y+wfps",
      "include_colab_link": true
    },
    "kernelspec": {
      "name": "python3",
      "display_name": "Python 3"
    },
    "language_info": {
      "name": "python"
    }
  },
  "cells": [
    {
      "cell_type": "markdown",
      "metadata": {
        "id": "view-in-github",
        "colab_type": "text"
      },
      "source": [
        "<a href=\"https://colab.research.google.com/github/Alansando121/Python/blob/main/Untitled12.ipynb\" target=\"_parent\"><img src=\"https://colab.research.google.com/assets/colab-badge.svg\" alt=\"Open In Colab\"/></a>"
      ]
    },
    {
      "cell_type": "markdown",
      "source": [
        "1.- Programa en Python Mostrar un mensaje que diga “HOLA MUNDO” en un solo renglón usando 2 print\n",
        "\n",
        "\n",
        "\n"
      ],
      "metadata": {
        "id": "8PXLSBdHA4rX"
      }
    },
    {
      "cell_type": "code",
      "source": [
        "print(\"HOLA\", end=\" \")\n",
        "print(\"MUNDO\")\n"
      ],
      "metadata": {
        "id": "lQI_VLQNBdXl"
      },
      "execution_count": null,
      "outputs": []
    },
    {
      "cell_type": "markdown",
      "source": [
        "2.- Programa en Python que lea 2 números, realizar la suma y desplegar la suma de los 2 números"
      ],
      "metadata": {
        "id": "ETmpKpd1A8Ru"
      }
    },
    {
      "cell_type": "code",
      "source": [
        "\n",
        "num1 = float(input(\"Ingrese el primer número: \"))\n",
        "num2 = float(input(\"Ingrese el segundo número: \"))\n",
        "\n",
        "suma = num1 + num2\n",
        "\n",
        "\n",
        "print(\"La suma de los dos números es:\", suma)\n",
        "\n"
      ],
      "metadata": {
        "id": "rsmhCd5KA85m"
      },
      "execution_count": null,
      "outputs": []
    },
    {
      "cell_type": "markdown",
      "source": [
        "\n",
        "\n",
        "\n",
        "\n",
        "3.- Programa en Python que lea 2 números y realice las 4 operaciones básicas\n",
        "\n",
        "\n"
      ],
      "metadata": {
        "id": "PPD5eVcnA_e3"
      }
    },
    {
      "cell_type": "code",
      "source": [
        "\n",
        "num1 = float(input(\"Ingrese el primer número: \"))\n",
        "num2 = float(input(\"Ingrese el segundo número: \"))\n",
        "\n",
        "\n",
        "suma = num1 + num2\n",
        "resta = num1 - num2\n",
        "multiplicacion = num1 * num2\n",
        "division = num1 / num2 if num2 != 0 else \"Indefinido (división por cero)\"\n",
        "\n",
        "\n",
        "print(f\"Suma: {suma}\")\n",
        "print(f\"Resta: {resta}\")\n",
        "print(f\"Multiplicación: {multiplicacion}\")\n",
        "print(f\"División: {division}\")\n"
      ],
      "metadata": {
        "id": "w0kC8PaFBAUN"
      },
      "execution_count": null,
      "outputs": []
    },
    {
      "cell_type": "markdown",
      "source": [
        "4.- Programa en Python Que sirva para calcular el área de un triángulo"
      ],
      "metadata": {
        "id": "TDkguOvpBBlF"
      }
    },
    {
      "cell_type": "code",
      "source": [
        "\n",
        "base = float(input(\"Ingrese la base del triángulo: \"))\n",
        "altura = float(input(\"Ingrese la altura del triángulo: \"))\n",
        "\n",
        "area = (base * altura) / 2\n",
        "\n",
        "\n",
        "print(f\"El área del triángulo es: {area}\")\n"
      ],
      "metadata": {
        "id": "Wt6fKNU1BFHG"
      },
      "execution_count": null,
      "outputs": []
    },
    {
      "cell_type": "markdown",
      "source": [
        "5.- Programa en Python que lea una medida en centímetros y desplegar la misma medida pero convertida en pies y pulgadas"
      ],
      "metadata": {
        "id": "sEQeS47HBGp2"
      }
    },
    {
      "cell_type": "code",
      "source": [
        "\n",
        "cm = float(input(\"Ingrese la medida en centímetros: \"))\n",
        "\n",
        "pulgadas = cm / 2.54\n",
        "pies = int(pulgadas // 12)\n",
        "pulgadas_restantes = pulgadas % 12\n",
        "\n",
        "\n",
        "print(f\"{cm} cm son {pies} pies y {pulgadas_restantes:.2f} pulgadas\")\n"
      ],
      "metadata": {
        "id": "pyvubaM4BNhl"
      },
      "execution_count": null,
      "outputs": []
    },
    {
      "cell_type": "markdown",
      "source": [
        "6.- Programa en Python que lea una temperatura en grados centígrados y desplegarla en Grados Fahrenheit y grados kelvin"
      ],
      "metadata": {
        "id": "COkEF2urBNu9"
      }
    },
    {
      "cell_type": "code",
      "source": [
        "\n",
        "celsius = float(input(\"Ingrese la temperatura en grados centígrados: \"))\n",
        "\n",
        "fahrenheit = (celsius * 9/5) + 32\n",
        "kelvin = celsius + 273.15\n",
        "\n",
        "\n",
        "print(f\"{celsius}°C son {fahrenheit}°F y {kelvin} K\")\n"
      ],
      "metadata": {
        "id": "wWSAmrbxBPsN"
      },
      "execution_count": null,
      "outputs": []
    },
    {
      "cell_type": "markdown",
      "source": [
        "7.- Programa en Python que lea 4 calificaciones de un alumno, desplegar el promedio del alumno"
      ],
      "metadata": {
        "id": "3csPOMAOBP81"
      }
    },
    {
      "cell_type": "code",
      "source": [
        "\n",
        "cal1 = float(input(\"Ingrese la primera calificación: \"))\n",
        "cal2 = float(input(\"Ingrese la segunda calificación: \"))\n",
        "cal3 = float(input(\"Ingrese la tercera calificación: \"))\n",
        "cal4 = float(input(\"Ingrese la cuarta calificación: \"))\n",
        "\n",
        "\n",
        "promedio = (cal1 + cal2 + cal3 + cal4) / 4\n",
        "\n",
        "print(f\"El promedio del alumno es: {promedio}\")\n"
      ],
      "metadata": {
        "id": "p7UzHIpoBfA1"
      },
      "execution_count": null,
      "outputs": []
    }
  ]
}