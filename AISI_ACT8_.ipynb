{
  "nbformat": 4,
  "nbformat_minor": 0,
  "metadata": {
    "colab": {
      "provenance": [],
      "toc_visible": true,
      "authorship_tag": "ABX9TyMZ5VYMWh9cBi2WBjG00jOl",
      "include_colab_link": true
    },
    "kernelspec": {
      "name": "python3",
      "display_name": "Python 3"
    },
    "language_info": {
      "name": "python"
    }
  },
  "cells": [
    {
      "cell_type": "markdown",
      "metadata": {
        "id": "view-in-github",
        "colab_type": "text"
      },
      "source": [
        "<a href=\"https://colab.research.google.com/github/Alansando121/Python/blob/main/AISI_ACT8_.ipynb\" target=\"_parent\"><img src=\"https://colab.research.google.com/assets/colab-badge.svg\" alt=\"Open In Colab\"/></a>"
      ]
    },
    {
      "cell_type": "markdown",
      "source": [
        "1.- Programa en python que genere un número entre el 1 y 10 (no visible)  preguntarle al usuario que número cree que generó la computadora, el usuario tendrá 3 oportunidades de adivinar.\n",
        "\n",
        "Decir si adivino o si falló en sus 3 intentos."
      ],
      "metadata": {
        "id": "d5oM1ePZSJDH"
      }
    },
    {
      "cell_type": "code",
      "source": [
        "import random\n",
        "\n",
        "ganados = 0\n",
        "perdidos = 0\n",
        "\n",
        "while True:\n",
        "    numero = random.randint(1, 10)\n",
        "    i = 0\n",
        "    print(\"Adivina el número entre 1 y 10\")\n",
        "    while i < 3:\n",
        "        try:\n",
        "            num = int(input(f\"Intento {i + 1}: \"))\n",
        "            if num == numero:\n",
        "                print(\"¡Le atinaste al número!\")\n",
        "                ganados += 1\n",
        "                break\n",
        "            elif num > 10 or num < 1:\n",
        "                raise ValueError\n",
        "        except ValueError:\n",
        "            print(\"Por favor ingresa un número entero entre 1 y 10.\")\n",
        "            continue\n",
        "        else:\n",
        "            i += 1\n",
        "    if i >= 3:\n",
        "        print(\"Te quedaste sin intentos.\")\n",
        "        print(f\"El número era {numero}.\")\n",
        "        perdidos += 1\n",
        "\n",
        "    jugar_nuevamente = input(\"¿Quieres jugar de nuevo? (s/n): \")\n",
        "    if jugar_nuevamente.lower() != 's':\n",
        "        break\n",
        "\n",
        "print(\"Juegos ganados:\", ganados)\n",
        "print(\"Juegos perdidos:\", perdidos)\n",
        "4"
      ],
      "metadata": {
        "id": "TLxbTiI8LIdK"
      },
      "execution_count": null,
      "outputs": []
    },
    {
      "cell_type": "markdown",
      "source": [
        "VERSIÓN A) Usar ciclos para validar los repetidos, y sólo random para generar los números dentro del rango\n",
        "\n",
        "\n"
      ],
      "metadata": {
        "id": "nnfsXQe2RfjB"
      }
    },
    {
      "cell_type": "code",
      "source": [
        "import random\n",
        "\n",
        "def generar_lista_versión_a():\n",
        "    lista = []\n",
        "    while len(lista) < 10:\n",
        "        num = random.randint(1, 10)\n",
        "        if num not in lista:\n",
        "            lista.append(num)\n",
        "    return lista\n",
        "\n",
        "def jugar_busca_numero_versión_a():\n",
        "    lista_numeros = generar_lista_versión_a()\n",
        "    numero_objetivo = random.choice(lista_numeros)\n",
        "\n",
        "    print(\"EL NÚMERO {} SE ENCUENTRA EN EL ÍNDICE ? :\".format(numero_objetivo))\n",
        "\n",
        "    intentos = 3\n",
        "    while intentos > 0:\n",
        "        try:\n",
        "            indice = int(input(\"Intenta adivinar el índice del número de (1-10): \"))\n",
        "            if 0 <= indice < len(lista_numeros):\n",
        "                if lista_numeros[indice] == numero_objetivo:\n",
        "                    print(\"¡GANASTE!\")\n",
        "                    return True\n",
        "                else:\n",
        "                    intentos -= 1\n",
        "                    if intentos > 0:\n",
        "                        print(\"INCORRECTO. TIENES UN NUEVO INTENTO.\")\n",
        "                    else:\n",
        "                        print(\"PERDISTE. El número {} se encontraba en el índice {}.\".format(numero_objetivo, lista_numeros.index(numero_objetivo)))\n",
        "                        return False\n",
        "            else:\n",
        "                raise ValueError\n",
        "        except ValueError:\n",
        "            print(\"Por favor ingresa un índice válido.\")\n",
        "\n",
        "    print(\"Te quedaste sin intentos.\")\n",
        "    print(\"El número era {} y se encontraba en el índice {}.\".format(numero_objetivo, lista_numeros.index(numero_objetivo)))\n",
        "    return False\n",
        "\n",
        "# Juego principal\n",
        "ganados_versión_a = 0\n",
        "perdidos_versión_a = 0\n",
        "\n",
        "while True:\n",
        "    if jugar_busca_numero_versión_a():\n",
        "        ganados_versión_a += 1\n",
        "    else:\n",
        "        perdidos_versión_a += 1\n",
        "\n",
        "    jugar_nuevamente = input(\"¿Quieres jugar de nuevo? (s/n): \")\n",
        "    if jugar_nuevamente.lower() != 's':\n",
        "        break\n",
        "\n",
        "print(\"Juegos ganados (Versión A):\", ganados_versión_a)\n",
        "print(\"Juegos perdidos (Versión A):\", perdidos_versión_a)\n"
      ],
      "metadata": {
        "colab": {
          "base_uri": "https://localhost:8080/"
        },
        "id": "wwKuBqHTRIep",
        "outputId": "a3957555-9a60-4784-ec57-dee7d7aa3479"
      },
      "execution_count": null,
      "outputs": [
        {
          "output_type": "stream",
          "name": "stdout",
          "text": [
            "EL NÚMERO 5 SE ENCUENTRA EN EL ÍNDICE ? :\n",
            "Intenta adivinar el índice del número de (1-10): 4\n",
            "INCORRECTO. TIENES UN NUEVO INTENTO.\n",
            "Intenta adivinar el índice del número de (1-10): 5\n",
            "INCORRECTO. TIENES UN NUEVO INTENTO.\n",
            "Intenta adivinar el índice del número de (1-10): 3\n",
            "¡GANASTE!\n",
            "¿Quieres jugar de nuevo? (s/n): n\n",
            "Juegos ganados (Versión A): 1\n",
            "Juegos perdidos (Versión A): 0\n"
          ]
        }
      ]
    },
    {
      "cell_type": "markdown",
      "source": [
        "VERSIÓN B) Usa funciones de la librería Random para llenar la lista con los número sin repetir"
      ],
      "metadata": {
        "id": "GxR3VehHRtHG"
      }
    },
    {
      "cell_type": "code",
      "source": [
        "import random\n",
        "\n",
        "def generar_lista_versión_b():\n",
        "    lista = random.sample(range(1, 11), 10)\n",
        "    return lista\n",
        "\n",
        "def jugar_busca_numero_versión_b():\n",
        "    lista_numeros = generar_lista_versión_b()\n",
        "    numero_objetivo = random.choice(lista_numeros)\n",
        "\n",
        "    print(\"EL NÚMERO {} SE ENCUENTRA EN EL iNDICE ? :\".format(numero_objetivo))\n",
        "\n",
        "    intentos = 3\n",
        "    while intentos > 0:\n",
        "        try:\n",
        "            indice = int(input(\"Intenta adivinar el indice del ()1-10: \"))\n",
        "            if 0 <= indice < len(lista_numeros):\n",
        "                if lista_numeros[indice] == numero_objetivo:\n",
        "                    print(\"¡GANASTE!\")\n",
        "                    return True\n",
        "                else:\n",
        "                    intentos -= 1\n",
        "                    if intentos > 0:\n",
        "                        print(\"INCORRECTO. TIENES UN NUEVO INTENTO.\")\n",
        "                    else:\n",
        "                        print(\"PERDISTE. El número {} se encontraba en el índice {}.\".format(numero_objetivo, lista_numeros.index(numero_objetivo)))\n",
        "                        return False\n",
        "            else:\n",
        "                raise ValueError\n",
        "        except ValueError:\n",
        "            print(\"Por favor ingresa un indice válido.\")\n",
        "\n",
        "    print(\"Te quedaste sin intentos.\")\n",
        "    print(\"El número era {} y se encontraba en el índice {}.\".format(numero_objetivo, lista_numeros.index(numero_objetivo)))\n",
        "    return False\n",
        "\n",
        "# Juego principal\n",
        "ganados_versión_b = 0\n",
        "perdidos_versión_b = 0\n",
        "\n",
        "while True:\n",
        "    if jugar_busca_numero_versión_b():\n",
        "        ganados_versión_b += 1\n",
        "    else:\n",
        "        perdidos_versión_b += 1\n",
        "\n",
        "    jugar_nuevamente = input(\"¿Quieres jugar de nuevo? (s/n): \")\n",
        "    if jugar_nuevamente.lower() != 's':\n",
        "        break\n",
        "\n",
        "print(\"Juegos ganados (Versión B):\", ganados_versión_b)\n",
        "print(\"Juegos perdidos (Versión B):\", perdidos_versión_b)\n"
      ],
      "metadata": {
        "colab": {
          "base_uri": "https://localhost:8080/"
        },
        "id": "1JY_yayFRrD_",
        "outputId": "e519618f-73eb-4ed6-b32b-5f2d1a03a3d9"
      },
      "execution_count": null,
      "outputs": [
        {
          "output_type": "stream",
          "name": "stdout",
          "text": [
            "EL NÚMERO 5 SE ENCUENTRA EN EL iNDICE ? :\n",
            "Intenta adivinar el indice del ()1-10: 4\n",
            "INCORRECTO. TIENES UN NUEVO INTENTO.\n",
            "Intenta adivinar el indice del ()1-10: 6\n",
            "¡GANASTE!\n",
            "¿Quieres jugar de nuevo? (s/n): n\n",
            "Juegos ganados (Versión B): 1\n",
            "Juegos perdidos (Versión B): 0\n"
          ]
        }
      ]
    },
    {
      "cell_type": "markdown",
      "source": [
        "VERSIÓN C) Usa funciones de la librería Random para llenar la lista con los número sin repetir"
      ],
      "metadata": {
        "id": "HoVwplIIRu52"
      }
    },
    {
      "cell_type": "code",
      "source": [],
      "metadata": {
        "id": "xJE4CBMERtjO"
      },
      "execution_count": null,
      "outputs": []
    }
  ]
}