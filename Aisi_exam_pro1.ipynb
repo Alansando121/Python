{
  "nbformat": 4,
  "nbformat_minor": 0,
  "metadata": {
    "colab": {
      "provenance": [],
      "authorship_tag": "ABX9TyM03SEDBLbcCC4nZdJfpTqT",
      "include_colab_link": true
    },
    "kernelspec": {
      "name": "python3",
      "display_name": "Python 3"
    },
    "language_info": {
      "name": "python"
    }
  },
  "cells": [
    {
      "cell_type": "markdown",
      "metadata": {
        "id": "view-in-github",
        "colab_type": "text"
      },
      "source": [
        "<a href=\"https://colab.research.google.com/github/Alansando121/Python/blob/main/Aisi_exam_pro1.ipynb\" target=\"_parent\"><img src=\"https://colab.research.google.com/assets/colab-badge.svg\" alt=\"Open In Colab\"/></a>"
      ]
    },
    {
      "cell_type": "code",
      "execution_count": null,
      "metadata": {
        "id": "1kzisOPtqc8W"
      },
      "outputs": [],
      "source": [
        "#Alan isai sandoval ibarra\n",
        "def factorial(numero):\n",
        "    if numero == 0:\n",
        "        return 1\n",
        "    else:\n",
        "        return numero * factorial(numero - 1)\n",
        "\n",
        "def main():\n",
        "    numero = int(input(\"Ingrese un número para calcular su factorial: \"))\n",
        "    resultado = factorial(numero)\n",
        "    print(\"El factorial de\", numero, \"es:\", resultado)\n",
        "\n",
        "if __name__ == \"__main__\":\n",
        "    main()\n"
      ]
    }
  ]
}