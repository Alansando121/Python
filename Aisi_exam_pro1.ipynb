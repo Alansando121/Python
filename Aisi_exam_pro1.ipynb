{
  "nbformat": 4,
  "nbformat_minor": 0,
  "metadata": {
    "colab": {
      "provenance": [],
      "authorship_tag": "ABX9TyOtApclpgx6binCobgIKFF2",
      "include_colab_link": true
    },
    "kernelspec": {
      "name": "python3",
      "display_name": "Python 3"
    },
    "language_info": {
      "name": "python"
    }
  },
  "cells": [
    {
      "cell_type": "markdown",
      "metadata": {
        "id": "view-in-github",
        "colab_type": "text"
      },
      "source": [
        "<a href=\"https://colab.research.google.com/github/Alansando121/Python/blob/main/Aisi_exam_pro1.ipynb\" target=\"_parent\"><img src=\"https://colab.research.google.com/assets/colab-badge.svg\" alt=\"Open In Colab\"/></a>"
      ]
    },
    {
      "cell_type": "code",
      "execution_count": null,
      "metadata": {
        "id": "1kzisOPtqc8W"
      },
      "outputs": [],
      "source": [
        "#Alan isai sandoval ibarra\n",
        "def factorial(numero):\n",
        "    if numero == 0:\n",
        "        return 1\n",
        "    else:\n",
        "        return numero * factorial(numero - 1)\n",
        "\n",
        "def main():\n",
        "    numero = int(input(\"Ingrese un número para calcular su factorial: \"))\n",
        "    resultado = factorial(numero)\n",
        "    print(\"El factorial de\", numero, \"es:\", resultado)\n",
        "\n",
        "if __name__ == \"__main__\":\n",
        "    main()\n"
      ]
    },
    {
      "cell_type": "code",
      "source": [
        "#Alan isai sandoval ibarra\n",
        "import random\n",
        "\n",
        "\n",
        "def generar_numeros_aleatorios():\n",
        "    numeros_generados = set()\n",
        "    while len(numeros_generados) < 30:\n",
        "        numero = random.randint(20, 60)\n",
        "        numeros_generados.add(numero)\n",
        "    return list(numeros_generados)\n",
        "\n",
        "\n",
        "lista_numeros_aleatorios = generar_numeros_aleatorios()\n",
        "print(lista_numeros_aleatorios)\n"
      ],
      "metadata": {
        "colab": {
          "base_uri": "https://localhost:8080/"
        },
        "id": "1v3u5UPQrLDG",
        "outputId": "eaf7df0a-a4a8-495a-f752-cac8e686fce1"
      },
      "execution_count": 1,
      "outputs": [
        {
          "output_type": "stream",
          "name": "stdout",
          "text": [
            "[20, 21, 22, 24, 25, 28, 29, 30, 34, 35, 36, 38, 39, 40, 41, 42, 43, 44, 45, 46, 47, 48, 49, 51, 53, 54, 55, 56, 57, 60]\n"
          ]
        }
      ]
    }
  ]
}